{
 "cells": [
  {
   "cell_type": "code",
   "execution_count": null,
   "id": "eab472bd-bf73-40a8-b579-8a9595e87261",
   "metadata": {},
   "outputs": [],
   "source": [
    "!pip install ultralytics"
   ]
  },
  {
   "cell_type": "markdown",
   "id": "4d55d570-8c1c-4e9f-b1c8-c1e05bf44c71",
   "metadata": {},
   "source": [
    "## Đối với Object Detection "
   ]
  },
  {
   "cell_type": "code",
   "execution_count": null,
   "id": "1411e3c2-ef4a-4275-b128-7748c90c1e54",
   "metadata": {},
   "outputs": [],
   "source": [
    "from ultralytics import YOLO  \n",
    "import os \n",
    "\n",
    "# Vô hiệu hóa tính năng WandB để không tự động gửi dữ liệu lên WandB trong quá trình huấn luyện\n",
    "os.environ['WANDB_DISABLED'] = 'True'\n",
    "\n",
    "# Tải mô hình YOLOv8 với trọng số đã được huấn luyện trước (YOLOv8m)\n",
    "model = YOLO(model='yolov8m.pt')  \n",
    "\n",
    "# Huấn luyện mô hình với bộ dữ liệu tùy chỉnh\n",
    "results = model.train(\n",
    "    data=\"/your/path/yaml-1/wildtrack.yaml\",  # Đường dẫn đến tệp dữ liệu YAML\n",
    "    epochs=100,  # Số lượng epochs để huấn luyện mô hình\n",
    "    imgsz=640,  # Kích thước hình ảnh đầu vào (640x640 pixels)\n",
    "    project=\"yolov8_training\",  # Tên thư mục chứa kết quả huấn luyện\n",
    "    name=\"results\"  # Tên của thư mục con trong \"yolov8_training\" để lưu trữ kết quả\n",
    ")\n",
    "\n",
    "# Di chuyển các trọng số đã lưu sau khi huấn luyện đến thư mục mong muốn\n",
    "import shutil  # Nhập thư viện shutil để di chuyển file\n",
    "shutil.move(\"yolov8_training/results\", \"/your/path/yolov8_training\")  # Di chuyển thư mục kết quả đến đường dẫn mới\n"
   ]
  },
  {
   "cell_type": "markdown",
   "id": "0dfc1d58-55fb-4724-9a5c-ad576d18b451",
   "metadata": {},
   "source": [
    "## Đối với Object Tracking"
   ]
  },
  {
   "cell_type": "markdown",
   "id": "5e0deb13-8b78-4630-94c2-f4b19ff9fdf7",
   "metadata": {},
   "source": [
    "### Tracking qua từng frame"
   ]
  },
  {
   "cell_type": "code",
   "execution_count": null,
   "id": "9f2543db-6c5f-4499-94a3-0cef6a879b4d",
   "metadata": {},
   "outputs": [],
   "source": [
    "from ultralytics import YOLO\n",
    "\n",
    "# Tải mô hình YOLOv8\n",
    "model = YOLO(\"/your/path/weight-last-m/best_last_m.pt\")\n",
    "\n",
    "# Thực hiện tracking trên frame\n",
    "results = model.track(source=\"/kaggle/input/camera-1/C1\", conf=0.3, iou=0.5, persist=True, stream=True)\n",
    "\n",
    "# Mở file TXT để ghi kết quả\n",
    "with open('tracking_results_new.txt', mode='w') as file:\n",
    "    # Vòng lặp qua các kết quả tracking\n",
    "    for frame_idx, result in enumerate(results):\n",
    "        boxes = result.boxes.xyxy  # Bounding boxes (x1, y1, x2, y2)\n",
    "        ids = result.boxes.id      # Object IDs\n",
    "        confs = result.boxes.conf  # Confidence scores\n",
    "\n",
    "        for i in range(len(boxes)):\n",
    "            # Chuyển đổi từ (x1, y1, x2, y2) sang (bb_left, bb_top, bb_width, bb_height)\n",
    "            bb_left = boxes[i][0]    # x1\n",
    "            bb_top = boxes[i][1]     # y1\n",
    "            bb_width = boxes[i][2] - boxes[i][0]  # x2 - x1\n",
    "            bb_height = boxes[i][3] - boxes[i][1]  # y2 - y1\n",
    "\n",
    "            # Ghi kết quả theo định dạng: frame, object_id, bb_left, bb_top, bb_width, bb_height, confidence\n",
    "            file.write(f\"{frame_idx}, {ids[i]}, \"\n",
    "                       f\"{bb_left}, {bb_top}, {bb_width}, {bb_height}, {confs[i]:.2f}\\n\")\n"
   ]
  },
  {
   "cell_type": "markdown",
   "id": "900a4e54-a20c-45a2-863d-b3b541050e5e",
   "metadata": {},
   "source": [
    "### Tracking trên 1 video"
   ]
  },
  {
   "cell_type": "code",
   "execution_count": null,
   "id": "3b69b21d-8ab0-4c6f-aaf5-eaa2b147d18e",
   "metadata": {},
   "outputs": [],
   "source": [
    "import cv2\n",
    "\n",
    "from ultralytics import YOLO\n",
    "\n",
    "# Tải mô hình YOLOv8\n",
    "model = YOLO(\"/your/path/weight-last-m/best_last_m.pt\")\n",
    "\n",
    "# Mở tệp video\n",
    "video_path = \"path/to/video.mp4\"\n",
    "cap = cv2.VideoCapture(video_path)\n",
    "\n",
    "# Vòng lặp để xử lý từng khung hình của video\n",
    "while cap.isOpened():\n",
    "    # Đọc một khung hình từ video\n",
    "    success, frame = cap.read()\n",
    "\n",
    "    if success:\n",
    "        # Chạy theo dõi đối tượng bằng YOLOv8 trên khung hình, duy trì các đối tượng giữa các khung hình\n",
    "        results = model.track(frame, persist=True)\n",
    "\n",
    "        # Vẽ kết quả nhận dạng đối tượng lên khung hình\n",
    "        annotated_frame = results[0].plot()\n",
    "\n",
    "        # Hiển thị khung hình đã được chú thích\n",
    "        cv2.imshow(\"Theo dõi bằng YOLOv8\", annotated_frame)\n",
    "\n",
    "        # Thoát vòng lặp nếu nhấn phím 'q'\n",
    "        if cv2.waitKey(1) & 0xFF == ord(\"q\"):\n",
    "            break\n",
    "    else:\n",
    "        # Thoát vòng lặp nếu đến cuối video\n",
    "        break\n",
    "\n",
    "# Giải phóng tài nguyên và đóng cửa sổ hiển thị\n",
    "cap.release()\n",
    "cv2.destroyAllWindows()\n"
   ]
  }
 ],
 "metadata": {
  "kernelspec": {
   "display_name": "Python 3 (ipykernel)",
   "language": "python",
   "name": "python3"
  },
  "language_info": {
   "codemirror_mode": {
    "name": "ipython",
    "version": 3
   },
   "file_extension": ".py",
   "mimetype": "text/x-python",
   "name": "python",
   "nbconvert_exporter": "python",
   "pygments_lexer": "ipython3",
   "version": "3.12.4"
  }
 },
 "nbformat": 4,
 "nbformat_minor": 5
}
